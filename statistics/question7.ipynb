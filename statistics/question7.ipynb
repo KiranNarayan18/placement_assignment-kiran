{
 "cells": [
  {
   "attachments": {},
   "cell_type": "markdown",
   "metadata": {},
   "source": [
    "7. The equations of two lines of regression, obtained in a correlation analysis between variables X and Y are as follows:\n",
    "\n",
    "2𝑋 + 3Y − 8 = 0   \n",
    "\n",
    "2𝑌 + 𝑋 − 5 = 0 \n",
    "\n",
    "The variance of 𝑋 = 4 Find the\n",
    "- a. Variance of Y\n",
    "- b. Coefficient of determination of C and Y\n",
    "- c. Standard error of estimate of X on Y and of Y on X."
   ]
  },
  {
   "cell_type": "code",
   "execution_count": 2,
   "metadata": {},
   "outputs": [
    {
     "name": "stdout",
     "output_type": "stream",
     "text": [
      "the variance of y is 1.32\n"
     ]
    }
   ],
   "source": [
    "#7.1\n",
    "#assumig Y is missing in the question in eq 1\n",
    "\n",
    "# by rewriting the above equations\n",
    "import numpy as np\n",
    "x = '-1.5Y + 4'\n",
    "xy = -1.5\n",
    "\n",
    "y = '-0.5x + 2.5'\n",
    "yx = -0.5\n",
    "\n",
    "corr_coeff = round(np.sqrt(xy * yx), 2)\n",
    "# variance of y\n",
    "variance_x = 4\n",
    "std_dev_x = np.sqrt(variance_x)\n",
    "\n",
    "std_dev_y = (yx * std_dev_x) / corr_coeff \n",
    "print(f'the variance of y is {round((std_dev_y) ** 2,2)}')\n"
   ]
  },
  {
   "cell_type": "code",
   "execution_count": 3,
   "metadata": {},
   "outputs": [
    {
     "name": "stdout",
     "output_type": "stream",
     "text": [
      "therefore the coefficient of determination is 0.25\n"
     ]
    }
   ],
   "source": [
    "#7.2\n",
    "\n",
    "# Coefficient of determination of C and Y\n",
    "#assuming c is x\n",
    "\n",
    "# since the correlation coefficient of x and y is 0.5\n",
    "\n",
    "print('therefore the coefficient of determination is 0.25')"
   ]
  },
  {
   "cell_type": "code",
   "execution_count": 4,
   "metadata": {},
   "outputs": [],
   "source": [
    "#7.3\n",
    "# Standard error of estimate of X on Y and of Y on X.\n",
    "\n",
    "SE_xy = std_dev_y * np.sqrt( (1 - yx**2))\n",
    "SE_yx = std_dev_x * np.sqrt( (1 - yx**2))"
   ]
  },
  {
   "cell_type": "code",
   "execution_count": null,
   "metadata": {},
   "outputs": [],
   "source": []
  }
 ],
 "metadata": {
  "kernelspec": {
   "display_name": "base",
   "language": "python",
   "name": "python3"
  },
  "language_info": {
   "codemirror_mode": {
    "name": "ipython",
    "version": 3
   },
   "file_extension": ".py",
   "mimetype": "text/x-python",
   "name": "python",
   "nbconvert_exporter": "python",
   "pygments_lexer": "ipython3",
   "version": "3.9.13"
  },
  "orig_nbformat": 4
 },
 "nbformat": 4,
 "nbformat_minor": 2
}
