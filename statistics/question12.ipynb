{
 "cells": [
  {
   "attachments": {},
   "cell_type": "markdown",
   "metadata": {},
   "source": [
    "12. A pharmaceutical company develops a new drug and wants to compare its effectiveness against a standard drug for treating a particular condition. They conduct a study with two groups: Group A receives the new drug, and Group B receives the standard drug. The company measures the improvement in a specific symptom for both groups after a 4-week treatment period.\n",
    "\n",
    "- a. The company collects data from 30 patients in each group and calculates the mean improvement score and the standard deviation of improvement for each group. The mean improvement score for Group A is 2.5 with a standard deviation of 0.8, while the mean improvement score for Group B is 2.2 with a standard deviation of 0.6. Conduct a t-test to determine if there is a significant difference in the mean improvement scores between the two groups. Use a significance level of 0.05.\n",
    "\n",
    "- b. Based on the t-test results, state whether the null hypothesis should be\n",
    "rejected or not. Provide a conclusion in the context of the study.\n"
   ]
  },
  {
   "cell_type": "code",
   "execution_count": 2,
   "metadata": {},
   "outputs": [
    {
     "name": "stdout",
     "output_type": "stream",
     "text": [
      "2.0017174830120923 1.6431676725154973\n",
      "as 2.002 > 1.64, failed to reject null hypothesis\n"
     ]
    }
   ],
   "source": [
    "from scipy.stats import t\n",
    "import math\n",
    "\n",
    "nA = 30\n",
    "meanA = 2.5\n",
    "std_devA = 0.8\n",
    "\n",
    "nB = 30\n",
    "meanB = 2.2\n",
    "std_devB = 0.6\n",
    "\n",
    "alpha = 0.05\n",
    "degree_of_freedom = nA - 1 + nB - 1\n",
    "\n",
    "# from table \n",
    "t_value = t.ppf(1 - alpha / 2, degree_of_freedom)\n",
    "\n",
    "t_calculated = (meanA - meanB) / math.sqrt((std_devA**2 / nA) + (std_devB**2 / nB))\n",
    "\n",
    "print(t_value, t_calculated)\n",
    "\n",
    "print(f'as {round(t_value,3)} > {round(t_calculated, 2)}, failed to reject null hypothesis')\n",
    "\n",
    "\n"
   ]
  },
  {
   "cell_type": "code",
   "execution_count": null,
   "metadata": {},
   "outputs": [],
   "source": []
  }
 ],
 "metadata": {
  "kernelspec": {
   "display_name": "base",
   "language": "python",
   "name": "python3"
  },
  "language_info": {
   "codemirror_mode": {
    "name": "ipython",
    "version": 3
   },
   "file_extension": ".py",
   "mimetype": "text/x-python",
   "name": "python",
   "nbconvert_exporter": "python",
   "pygments_lexer": "ipython3",
   "version": "3.9.13"
  },
  "orig_nbformat": 4
 },
 "nbformat": 4,
 "nbformat_minor": 2
}
