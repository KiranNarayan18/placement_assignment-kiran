{
 "cells": [
  {
   "attachments": {},
   "cell_type": "markdown",
   "metadata": {},
   "source": [
    "9. Test the hypothesis that the mean scores of all the students are the same. If not, name the student with the highest score."
   ]
  },
  {
   "cell_type": "code",
   "execution_count": 2,
   "metadata": {},
   "outputs": [
    {
     "name": "stdout",
     "output_type": "stream",
     "text": [
      "F-value: 0.3236947791164659\n",
      "P-value: 0.7295954253321559\n",
      "The mean scores of the students are the same.\n"
     ]
    }
   ],
   "source": [
    "import pandas as pd\n",
    "df = pd.DataFrame({'Name': ['karan', 'Deepa', 'Karthik', 'Chandan', 'Jeevan'],\n",
    "'Exam1': [85, 70, 90, 75, 95],\n",
    "'Exam2': [90, 80, 85, 70, 92],\n",
    "'FinalExam': [92, 85, 88, 75, 96]\n",
    "})\n",
    "\n",
    "\n",
    "from scipy.stats import f_oneway\n",
    "f_value, p_value = f_oneway(df['Exam1'], df['Exam2'], df['FinalExam'])\n",
    "\n",
    "#lets consider significance value = 0.05, 95% Confidence Interval\n",
    "significance_level = 0.05\n",
    "\n",
    "print(\"F-value:\", f_value)\n",
    "print(\"P-value:\", p_value)\n",
    "\n",
    "\n",
    "if p_value < significance_level:\n",
    "    print(\"The mean scores of the students are not all the same.\")\n",
    "\n",
    "    # Find student with highest score\n",
    "    df['TotalScore'] = df[['Exam1', 'Exam2', 'FinalExam']].sum(axis=1)\n",
    "    highest_score_student = df.loc[df['TotalScore'].idxmax(), 'Name']\n",
    "    highest_score = df.loc[df['TotalScore'].idxmax(), 'TotalScore']\n",
    "    print(\"Student with the highest score:\", highest_score_student)\n",
    "    print(\"Highest score:\", highest_score)\n",
    "else:\n",
    "    print(\"The mean scores of the students are the same.\")\n"
   ]
  },
  {
   "cell_type": "code",
   "execution_count": null,
   "metadata": {},
   "outputs": [],
   "source": []
  }
 ],
 "metadata": {
  "kernelspec": {
   "display_name": "base",
   "language": "python",
   "name": "python3"
  },
  "language_info": {
   "codemirror_mode": {
    "name": "ipython",
    "version": 3
   },
   "file_extension": ".py",
   "mimetype": "text/x-python",
   "name": "python",
   "nbconvert_exporter": "python",
   "pygments_lexer": "ipython3",
   "version": "3.9.13"
  },
  "orig_nbformat": 4
 },
 "nbformat": 4,
 "nbformat_minor": 2
}
