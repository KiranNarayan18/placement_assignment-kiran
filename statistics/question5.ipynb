{
 "cells": [
  {
   "attachments": {},
   "cell_type": "markdown",
   "metadata": {},
   "source": [
    "5. A certain city has two taxi companies: Company A has 80% of the taxis and Company B has 20% of the axis. Company A's taxis have a 95% success rate for picking up passengers on time, while Company B's taxis have a 90% success rate. If a randomly selected taxi is late, what is the probability that it belongs to Company A?"
   ]
  },
  {
   "cell_type": "code",
   "execution_count": 1,
   "metadata": {},
   "outputs": [
    {
     "name": "stdout",
     "output_type": "stream",
     "text": [
      "the probability that the selected taxi is late and belongs to a is 0.67\n"
     ]
    }
   ],
   "source": [
    "#soln\n",
    "# probability of a company's taxi being late\n",
    "a = 0.80\n",
    "a_late = 1 - 0.95\n",
    "\n",
    "#probability of b company's taxi being \n",
    "b = 0.2\n",
    "b_late = 1 - 0.90\n",
    "\n",
    "#probability of a randomly selected taxi is late belongs to...\n",
    "probability_a_late = (a * a_late) / ((a * a_late) + (b * b_late))\n",
    "print(f'the probability that the selected taxi is late and belongs to a is {round(probability_a_late,2)}')\n"
   ]
  }
 ],
 "metadata": {
  "kernelspec": {
   "display_name": "base",
   "language": "python",
   "name": "python3"
  },
  "language_info": {
   "codemirror_mode": {
    "name": "ipython",
    "version": 3
   },
   "file_extension": ".py",
   "mimetype": "text/x-python",
   "name": "python",
   "nbconvert_exporter": "python",
   "pygments_lexer": "ipython3",
   "version": "3.9.13"
  },
  "orig_nbformat": 4
 },
 "nbformat": 4,
 "nbformat_minor": 2
}
