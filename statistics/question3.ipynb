{
 "cells": [
  {
   "attachments": {},
   "cell_type": "markdown",
   "metadata": {},
   "source": [
    "3. Consider the ‘Blood Pressure Before’ and ‘Blood Pressure After’ columns from the df and calculate the following"
   ]
  },
  {
   "cell_type": "code",
   "execution_count": 2,
   "metadata": {},
   "outputs": [
    {
     "name": "stdout",
     "output_type": "stream",
     "text": [
      "the dispersion of df for Blood Pressure Before\n",
      "range of df: 28, variance: 43.1, stadard_dev: 6.57\n",
      "the dispersion of df for Blood Pressure After\n",
      "range of df: 23, variance: 46.97, stadard_dev: 6.85\n"
     ]
    }
   ],
   "source": [
    "#3.1\n",
    "\n",
    "# a. Measure the dispersion in both and interpret the results.\n",
    "\n",
    "#soln\n",
    "# dispersion - the spread of df from the central tendency such as mean or median \n",
    "\n",
    "# range, IQR, Variance, Standard Deviation, Mean absolute deviation\n",
    "import pandas as pd\n",
    "import numpy as np\n",
    "\n",
    "df = pd.read_csv('bp_statistics.csv')\n",
    "\n",
    "bp_before = df[' Blood Pressure Before (mmHg)']\n",
    "bp_after = df[' Blood Pressure After (mmHg)']\n",
    "\n",
    "def checkDispersion(x):\n",
    "    dfset_range = max(x) - min(x)\n",
    "    # variance = x.var()\n",
    "    variance = sum((x - (sum(x) / len(x))) ** 2 )/ len(x)\n",
    "    variance = round(variance, 2)\n",
    "    #stadard_dev = x.std()\n",
    "    stadard_dev = round(np.sqrt(variance),2)\n",
    "\n",
    "    return dfset_range, variance, stadard_dev\n",
    "\n",
    "print('the dispersion of df for Blood Pressure Before')\n",
    "dfset_range, variance, stadard_dev = checkDispersion(bp_before)\n",
    "print(f'range of df: {dfset_range}, variance: {variance}, stadard_dev: {stadard_dev}')\n",
    "\n",
    "print('the dispersion of df for Blood Pressure After')\n",
    "dfset_range, variance, stadard_dev = checkDispersion(bp_after)\n",
    "print(f'range of df: {dfset_range}, variance: {variance}, stadard_dev: {stadard_dev}')"
   ]
  },
  {
   "cell_type": "code",
   "execution_count": 4,
   "metadata": {},
   "outputs": [
    {
     "name": "stdout",
     "output_type": "stream",
     "text": [
      "5% Confidence Interval before: (132.60075849172767, 135.21924150827232)\n",
      "5% Confidence Interval after: (126.99326697818071, 129.7267330218193)\n"
     ]
    },
    {
     "data": {
      "image/png": "[encoded data removed]",
      "text/plain": [
       "<Figure size 640x480 with 1 Axes>"
      ]
     },
     "metadata": {},
     "output_type": "display_data"
    }
   ],
   "source": [
    "#3.2\n",
    "\n",
    "# Calculate mean and 5% confidence interval and plot it in a graph\n",
    "import matplotlib.pyplot as plt\n",
    "from scipy import stats\n",
    "\n",
    "mean_before =bp_before.mean()\n",
    "confidence_interval_before = stats.t.interval(0.95, len(df) - 1, loc=mean_before, scale=stats.sem(bp_before))\n",
    "\n",
    "print(\"5% Confidence Interval before:\", confidence_interval_before)\n",
    "\n",
    "mean_after =bp_after.mean()\n",
    "confidence_interval_after = stats.t.interval(0.95, len(df) - 1, loc=mean_after, scale=stats.sem(bp_after))\n",
    "\n",
    "print(\"5% Confidence Interval after:\", confidence_interval_after)\n",
    "\n",
    "plt.errorbar(x=[0, 1], y=[mean_before, mean_after], yerr=[(confidence_interval_before[1] - mean_before, mean_before - confidence_interval_before[0]),\n",
    "                                                           (confidence_interval_after[1] - mean_after, mean_after - confidence_interval_after[0])],\n",
    "             fmt='o', capsize=5)\n",
    "plt.xticks([0, 1], ['Before', 'After'])\n",
    "plt.ylabel('Blood Pressure (mmHg)')\n",
    "plt.title('Mean and 95% Confidence Interval')\n",
    "plt.show()"
   ]
  },
  {
   "cell_type": "code",
   "execution_count": 5,
   "metadata": {},
   "outputs": [
    {
     "name": "stdout",
     "output_type": "stream",
     "text": [
      "the mean absolute deviation for blood pressure before is: 5.71\n",
      "the standard deviation for blood pressure before is: 6.6\n",
      "the mean absolute deviation for blood pressure before is: 5.9\n",
      "the standard deviation for blood pressure after is: 6.89\n"
     ]
    }
   ],
   "source": [
    "#3.3\n",
    "\n",
    "# Calculate the Mean absolute deviation and Standard deviation and interpret the results.\n",
    "mean_before =bp_before.mean()\n",
    "mean_abs_dev_before = abs(bp_before - mean_before).mean()\n",
    "print(f'the mean absolute deviation for blood pressure before is: {round(mean_abs_dev_before,2)}')\n",
    "print(f'the standard deviation for blood pressure before is: {round(bp_before.std(),2)}')\n",
    "\n",
    "mean_after =bp_after.mean()\n",
    "mean_abs_dev_after = abs(bp_after - mean_after).mean()\n",
    "print(f'the mean absolute deviation for blood pressure before is: {round(mean_abs_dev_after,2)}')\n",
    "print(f'the standard deviation for blood pressure after is: {round(bp_after.std(),2)}')\n",
    "\n"
   ]
  },
  {
   "cell_type": "code",
   "execution_count": 6,
   "metadata": {},
   "outputs": [
    {
     "name": "stdout",
     "output_type": "stream",
     "text": [
      "Correlation Coefficient: 0.9779485966556027\n",
      "P-value: 1.8097381433033208e-68\n",
      "the correlation coefficient is significant at 1% level\n"
     ]
    }
   ],
   "source": [
    "#3.4\n",
    "\n",
    "# Calculate the correlation coefficient and check the significance of it at 1% level of significance\n",
    "from scipy.stats import pearsonr\n",
    "\n",
    "corr, p_value =  pearsonr(bp_before, bp_after)\n",
    "print(\"Correlation Coefficient:\", corr)\n",
    "print(\"P-value:\", p_value)\n",
    "\n",
    "if p_value < 0.01:\n",
    "    print(\"the correlation coefficient is significant at 1% level\")\n",
    "else:\n",
    "    print(\"the correlation coefficient is not significant at 1% level\")\n"
   ]
  },
  {
   "cell_type": "code",
   "execution_count": null,
   "metadata": {},
   "outputs": [],
   "source": []
  }
 ],
 "metadata": {
  "kernelspec": {
   "display_name": "base",
   "language": "python",
   "name": "python3"
  },
  "language_info": {
   "codemirror_mode": {
    "name": "ipython",
    "version": 3
   },
   "file_extension": ".py",
   "mimetype": "text/x-python",
   "name": "python",
   "nbconvert_exporter": "python",
   "pygments_lexer": "ipython3",
   "version": "3.9.13"
  },
  "orig_nbformat": 4
 },
 "nbformat": 4,
 "nbformat_minor": 2
}
