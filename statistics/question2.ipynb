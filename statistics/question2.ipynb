{
 "cells": [
  {
   "attachments": {},
   "cell_type": "markdown",
   "metadata": {},
   "source": [
    "```\n",
    "Q-2. Consider a dataset containing the heights (in centimeters) of 1000 individuals. The mean height is 170 cm with a standard deviation of 10 cm. The dataset is approximately normally distributed, and its skewness is approximately zero. Based on this information, answer the following questions:\n",
    "\n",
    "    a. What percentage of individuals in the dataset have heights between 160 cm\n",
    "    and 180 cm?\n",
    "    b. If we randomly select 100 individuals from the dataset, what is the probability\n",
    "    that their average height is greater than 175 cm?\n",
    "    c. Assuming the dataset follows a normal distribution, what is the z-score\n",
    "    corresponding to a height of 185 cm?\n",
    "    d. We know that 5% of the dataset has heights below a certain value. What is\n",
    "    the approximate height corresponding to this threshold?\n",
    "    e. Calculate the coefficient of variation (CV) for the dataset.\n",
    "    f. Calculate the skewness of the dataset and interpret the result.```\n"
   ]
  },
  {
   "cell_type": "code",
   "execution_count": 1,
   "metadata": {},
   "outputs": [
    {
     "data": {
      "text/plain": [
       "68.26"
      ]
     },
     "execution_count": 1,
     "metadata": {},
     "output_type": "execute_result"
    }
   ],
   "source": [
    "# 2.1\n",
    "\n",
    "# What percentage of individuals in the dataset have heights between 160 cm and 180 cm?\n",
    "# given\n",
    "N = 1000\n",
    "population_mean = 170 #cm\n",
    "standard_deviation = 10 \n",
    "x1 = 160\n",
    "x2 = 180\n",
    "\n",
    "z_score_for_x1 = (x1 - population_mean) / standard_deviation\n",
    "z_score_for_x2 = (x2 - population_mean) / standard_deviation\n",
    "\n",
    "#therefore from z table the value for\n",
    "#  z_score 1 is 0.8413\n",
    "#  z_score -1 is 0.1587\n",
    "\n",
    "#therefore \n",
    "\n",
    "percentage_of_individuals = round((0.8413 - 0.1587) * 100, 2)\n",
    "percentage_of_individuals"
   ]
  },
  {
   "cell_type": "code",
   "execution_count": 2,
   "metadata": {},
   "outputs": [
    {
     "name": "stdout",
     "output_type": "stream",
     "text": [
      "5.0\n",
      "for area 5 the value of z is 0 (from ztable) (one tail test)\n",
      "therefore there is 0% chance that sample will not have mean greater than 175\n"
     ]
    }
   ],
   "source": [
    "#2.2\n",
    "\n",
    "# If we randomly select 100 individuals from the dataset, what is the probability that their average height is greater than 175 cm?\n",
    "\n",
    "#given\n",
    "import numpy as np\n",
    "N = 1000\n",
    "population_mean = 170 #cm\n",
    "standard_deviation = 10 \n",
    "sample_size = 100\n",
    "sample_mean = 175\n",
    "\n",
    "# null hypothesis sample mean > population mean \n",
    "#sample size is > 30 #z-test can be used\n",
    "value = (sample_mean - population_mean) / (standard_deviation / np.sqrt(sample_size))\n",
    "\n",
    "print(value)\n",
    "\n",
    "print(\"for area 5 the value of z is 0 (from ztable) (one tail test)\")\n",
    "\n",
    "print(\"therefore there is 0% chance that sample will not have mean greater than 175\")\n",
    "\n"
   ]
  },
  {
   "cell_type": "code",
   "execution_count": 3,
   "metadata": {},
   "outputs": [
    {
     "name": "stdout",
     "output_type": "stream",
     "text": [
      "the zscore for 185cm is 1.5\n"
     ]
    }
   ],
   "source": [
    "#2.3\n",
    "\n",
    "# c. Assuming the dataset follows a normal distribution, what is the z-score corresponding to a height of 185 cm?\n",
    "\n",
    "N = 1000\n",
    "population_mean = 170 #cm\n",
    "standard_deviation = 10 \n",
    "x = 185\n",
    "\n",
    "\n",
    "z_score_for_x = (x - population_mean) / standard_deviation\n",
    "print(f\"the zscore for 185cm is {z_score_for_x}\")\n"
   ]
  },
  {
   "cell_type": "code",
   "execution_count": 4,
   "metadata": {},
   "outputs": [
    {
     "name": "stdout",
     "output_type": "stream",
     "text": [
      "the approximate height corresponding to 5% is 153.5cm\n"
     ]
    }
   ],
   "source": [
    "#2.4\n",
    "\n",
    "# d. We know that 5% of the dataset has heights below a certain value. What is the approximate height corresponding to this threshold?\n",
    "\n",
    "#from the ztable for the value of 0.05 the zscore is -1.64\n",
    "\n",
    "population_mean = 170 #cm\n",
    "standard_deviation = 10 \n",
    "# x = ?\n",
    "z_score = -1.65\n",
    "\n",
    "# z_score = (x - population_mean) / standard_deviation\n",
    "\n",
    "x = (z_score * standard_deviation) + population_mean\n",
    "print(f'the approximate height corresponding to 5% is {x}cm')"
   ]
  },
  {
   "cell_type": "code",
   "execution_count": 5,
   "metadata": {},
   "outputs": [
    {
     "name": "stdout",
     "output_type": "stream",
     "text": [
      "coefficient of variation (CV) for the dataset 5.88\n"
     ]
    }
   ],
   "source": [
    "#2.5\n",
    "# e. Calculate the coefficient of variation (CV) for the dataset.\n",
    "\n",
    "CV = round((standard_deviation / population_mean ) * 100, 2)\n",
    "print(f\"coefficient of variation (CV) for the dataset {CV}\")"
   ]
  },
  {
   "cell_type": "code",
   "execution_count": 6,
   "metadata": {},
   "outputs": [
    {
     "name": "stdout",
     "output_type": "stream",
     "text": [
      "0.0\n"
     ]
    }
   ],
   "source": [
    "#2.6\n",
    "\n",
    "# f. Calculate the skewness of the dataset and interpret the result.\n",
    "\n",
    "#it is clearly mentioned in the question that the dataset is normally distributed and the skewness is zero\n",
    "#for a nomally distributed data mean, median and mode are same\n",
    "\n",
    "population_median = population_mean \n",
    "\n",
    "#since population mean = population median \n",
    "#skewness is zero\n",
    "\n",
    "skewed = (3*(population_mean - population_median)) / standard_deviation\n",
    "print(skewed)"
   ]
  }
 ],
 "metadata": {
  "kernelspec": {
   "display_name": "base",
   "language": "python",
   "name": "python3"
  },
  "language_info": {
   "codemirror_mode": {
    "name": "ipython",
    "version": 3
   },
   "file_extension": ".py",
   "mimetype": "text/x-python",
   "name": "python",
   "nbconvert_exporter": "python",
   "pygments_lexer": "ipython3",
   "version": "3.9.13"
  },
  "orig_nbformat": 4
 },
 "nbformat": 4,
 "nbformat_minor": 2
}
