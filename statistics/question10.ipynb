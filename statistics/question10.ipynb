{
 "cells": [
  {
   "attachments": {},
   "cell_type": "markdown",
   "metadata": {},
   "source": [
    "10. A factory produces light bulbs, and the probability of a bulb being defective is 0.05.\n",
    "The factory produces a large batch of 500 light bulbs.\n",
    "\n",
    "- What is the probability that exactly 20 bulbs are defective?\n",
    "- What is the probability that at least 10 bulbs are defective?\n",
    "- What is the probability that at max 15 bulbs are defective?\n",
    "- On average, how many defective bulbs would you expect in a batch of 500?"
   ]
  },
  {
   "cell_type": "code",
   "execution_count": 1,
   "metadata": {},
   "outputs": [
    {
     "name": "stdout",
     "output_type": "stream",
     "text": [
      "the probability that exactly 20 bulbs are defective 0.0483661403058116\n"
     ]
    }
   ],
   "source": [
    "#10.1\n",
    "\n",
    "# What is the probability that exactly 20 bulbs are defective?\n",
    "\n",
    "import scipy.stats as stats\n",
    "import math\n",
    "\n",
    "n = 500\n",
    "p = 0.05\n",
    "k = 20\n",
    "\n",
    "mean = n * p\n",
    "std_dev = math.sqrt(n * p * (1 - p))\n",
    "probability = stats.norm.cdf(k + 0.5, loc=mean, scale=std_dev) - stats.norm.cdf(k - 0.5, loc=mean, scale=std_dev)\n",
    "\n",
    "print(\"the probability that exactly 20 bulbs are defective\", probability)"
   ]
  },
  {
   "cell_type": "code",
   "execution_count": 2,
   "metadata": {},
   "outputs": [
    {
     "name": "stdout",
     "output_type": "stream",
     "text": [
      "the probability that at least 10 bulbs are defective 0.9992649777488151\n"
     ]
    }
   ],
   "source": [
    "#10.2\n",
    "\n",
    "k = 10\n",
    "\n",
    "probability = stats.norm.sf(k - 0.5, loc=mean, scale=std_dev)\n",
    "print(\"the probability that at least 10 bulbs are defective\", probability)"
   ]
  },
  {
   "cell_type": "code",
   "execution_count": 3,
   "metadata": {},
   "outputs": [
    {
     "name": "stdout",
     "output_type": "stream",
     "text": [
      "the probability that at max 15 bulbs are defective 0.025626291428684733\n"
     ]
    }
   ],
   "source": [
    "#10.3\n",
    "k = 15\n",
    "\n",
    "probability = stats.norm.cdf(k + 0.5, loc=mean, scale=std_dev)\n",
    "print(\"the probability that at max 15 bulbs are defective\", probability)"
   ]
  },
  {
   "cell_type": "code",
   "execution_count": 4,
   "metadata": {},
   "outputs": [
    {
     "name": "stdout",
     "output_type": "stream",
     "text": [
      "how many defective bulbs would you expect in a batch of 500 25.0\n"
     ]
    }
   ],
   "source": [
    "#10.4\n",
    "\n",
    "probability = n * p\n",
    "print(\"how many defective bulbs would you expect in a batch of 500\", probability)"
   ]
  }
 ],
 "metadata": {
  "kernelspec": {
   "display_name": "base",
   "language": "python",
   "name": "python3"
  },
  "language_info": {
   "codemirror_mode": {
    "name": "ipython",
    "version": 3
   },
   "file_extension": ".py",
   "mimetype": "text/x-python",
   "name": "python",
   "nbconvert_exporter": "python",
   "pygments_lexer": "ipython3",
   "version": "3.9.13"
  },
  "orig_nbformat": 4
 },
 "nbformat": 4,
 "nbformat_minor": 2
}
