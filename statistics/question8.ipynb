{
 "cells": [
  {
   "attachments": {},
   "cell_type": "markdown",
   "metadata": {},
   "source": [
    "8. The anxiety levels of 10 participants were measured before and after a new therapy. The scores are not normally distributed. Use the Wilcoxon signed-rank test to test whether the therapy had a significant effect on anxiety levels. The data is given below: Participant Before therapy After therapy Difference"
   ]
  },
  {
   "cell_type": "code",
   "execution_count": 2,
   "metadata": {},
   "outputs": [
    {
     "name": "stdout",
     "output_type": "stream",
     "text": [
      "p-value: 0.001953125\n",
      "the p-value obtained is less than the significance value 0.05 (assumed)\n",
      "therefore anxity levels rediced\n"
     ]
    }
   ],
   "source": [
    "import numpy as np\n",
    "import pandas as pd\n",
    "\n",
    "df = pd.DataFrame({\"patient_id\":[1, 2, 3, 4, 5, 6, 7, 8, 9, 10],\n",
    " 'before_therapy':[10, 8, 12, 15, 6, 9, 11, 7, 14, 10],\n",
    " 'after_therapy': [7, 6, 10, 12, 5, 8, 9, 6, 12, 8],\n",
    " 'difference':[-3, -2, -2, -3, -1, -1, -2, -1, -2, -2]})\n",
    "\n",
    "from scipy.stats import wilcoxon\n",
    "statistic, p_value = wilcoxon(df['difference'])\n",
    "\n",
    "\n",
    "# print(\"Wilcoxon signed-rank test statistic:\", statistic)\n",
    "print(\"p-value:\", p_value)\n",
    "\n",
    "#lets assume alpha = 0.05\n",
    "#can notice from the data itself that the anxity levels reduced after therapy\n",
    "\n",
    "print('the p-value obtained is less than the significance value 0.05 (assumed)')\n",
    "print('therefore anxity levels rediced')"
   ]
  },
  {
   "cell_type": "code",
   "execution_count": null,
   "metadata": {},
   "outputs": [],
   "source": []
  }
 ],
 "metadata": {
  "kernelspec": {
   "display_name": "base",
   "language": "python",
   "name": "python3"
  },
  "language_info": {
   "codemirror_mode": {
    "name": "ipython",
    "version": 3
   },
   "file_extension": ".py",
   "mimetype": "text/x-python",
   "name": "python",
   "nbconvert_exporter": "python",
   "pygments_lexer": "ipython3",
   "version": "3.9.13"
  },
  "orig_nbformat": 4
 },
 "nbformat": 4,
 "nbformat_minor": 2
}
