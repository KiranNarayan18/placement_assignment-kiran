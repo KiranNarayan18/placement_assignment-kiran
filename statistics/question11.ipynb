{
 "cells": [
  {
   "attachments": {},
   "cell_type": "markdown",
   "metadata": {},
   "source": [
    "11. Given the data of a feature contributing to different classes\n",
    "\n",
    "- Check whether the distribution of all the classes are the same or not.\n",
    "- Check for the equality of variance\n",
    "- Which amount LDA and QDA would perform better on this data for classification and why.\n",
    "- Check the equality of mean for between all the classes."
   ]
  },
  {
   "cell_type": "code",
   "execution_count": 2,
   "metadata": {},
   "outputs": [
    {
     "name": "stdout",
     "output_type": "stream",
     "text": [
      "distribution of all the classes are not the same\n"
     ]
    }
   ],
   "source": [
    "#9.1\n",
    "\n",
    "# Check whether the distribution of all the classes are the same or not.\n",
    "import pandas as pd\n",
    "from scipy import stats\n",
    "\n",
    "df = pd.read_csv('bp_statistics.csv')\n",
    "\n",
    "bp_before = df[' Blood Pressure Before (mmHg)']\n",
    "bp_after = df[' Blood Pressure After (mmHg)']\n",
    "\n",
    "statistic, p_value = stats.kruskal(bp_before, bp_after)\n",
    "\n",
    "significance_level = 0.05\n",
    "\n",
    "print('distribution of all the classes are the same' if p_value > significance_level else 'distribution of all the classes are not the same')\n"
   ]
  },
  {
   "cell_type": "code",
   "execution_count": 3,
   "metadata": {},
   "outputs": [
    {
     "name": "stdout",
     "output_type": "stream",
     "text": [
      "p_value 0.6715080090945376\n",
      "significance_level 0.05\n",
      "variance of all the classes are the same\n"
     ]
    }
   ],
   "source": [
    "#9.2\n",
    "\n",
    "# Check for the equality of variance\n",
    "\n",
    "statistic, p_value = stats.levene(bp_before, bp_after)\n",
    "print('p_value', p_value)\n",
    "print('significance_level', significance_level)\n",
    "print('variance of all the classes are the same' if p_value > significance_level else 'variance of all the classes are not the same')"
   ]
  },
  {
   "attachments": {},
   "cell_type": "markdown",
   "metadata": {},
   "source": [
    "9.3\n",
    "\n",
    "Two classification techniques, linear discriminant analysis (LDA) and quadratic discriminant analysis (QDA), have differing presumptions on the data. While QDA permits various covariance matrices for each class, LDA presumes that each class has the same covariance matrix. When the assumption of equal covariance is true, LDA typically performs well, making it more reliable when there are few samples or when the data can be separated linearly. Overfitting is less likely to occur with LDA\n",
    "\n",
    "\n",
    "QDA, on the other hand, can model class-specific covariance structures and capture more complicated correlations in data. akes more training data and is more computationally expensive than LDA. It is critical to test both methods on the same dataset to see which one performs better based on the data distribution, class separability, and relationship complexity."
   ]
  },
  {
   "cell_type": "code",
   "execution_count": null,
   "metadata": {},
   "outputs": [],
   "source": [
    "#9.4\n",
    "\n",
    "# Check the equality of mean for between all the classes.\n",
    "statistic, p_value = stats.f_oneway(bp_before, bp_after)\n",
    "\n",
    "significance_level = 0.05\n",
    "if p_value < significance_level:\n",
    "    print(\"There is a significant difference in the means of the classes.\")\n",
    "else:\n",
    "    print(\"There is no significant difference in the means of the classes.\")"
   ]
  }
 ],
 "metadata": {
  "kernelspec": {
   "display_name": "base",
   "language": "python",
   "name": "python3"
  },
  "language_info": {
   "codemirror_mode": {
    "name": "ipython",
    "version": 3
   },
   "file_extension": ".py",
   "mimetype": "text/x-python",
   "name": "python",
   "nbconvert_exporter": "python",
   "pygments_lexer": "ipython3",
   "version": "3.9.13"
  },
  "orig_nbformat": 4
 },
 "nbformat": 4,
 "nbformat_minor": 2
}
