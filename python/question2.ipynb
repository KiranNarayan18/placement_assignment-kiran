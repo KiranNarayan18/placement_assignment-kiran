{
 "cells": [
  {
   "attachments": {},
   "cell_type": "markdown",
   "metadata": {},
   "source": [
    "2. Consider a string to be valid if all characters of the string appear the same number of times. It is also valid if\n",
    "he can remove just one character at the index in the string, and the remaining characters will occur the same\n",
    "number of times. Given a string, determine if it is valid. If so, return YES , otherwise return NO .\n",
    "\n",
    "\n",
    "Note - You have to write at least 2 additional test cases in which your program will run successfully and provide\n",
    "an explanation for the same.\n",
    "\n",
    "    Example input 1 - s = “abc”. This is a valid string because frequencies are { “a”: 1, “b”: 1, “c”: 1 }\n",
    "    Example output 1- YES\n",
    "\n",
    "    Example input 2 - s “abcc”. This string is not valid as we can remove only 1 occurrence of “c”. That leaves\n",
    "    character frequencies of { “a”: 1, “b”: 1 , “c”: 2 }\n",
    "    Example output 2 - NO"
   ]
  },
  {
   "cell_type": "code",
   "execution_count": 1,
   "metadata": {},
   "outputs": [
    {
     "name": "stdout",
     "output_type": "stream",
     "text": [
      "the given input string is:  quick\n",
      "True\n",
      "the given input string is:  fsds\n",
      "False\n"
     ]
    }
   ],
   "source": [
    "def check_len_of_all_elements(input_str:str)->bool:\n",
    "    try:\n",
    "        print('the given input string is: ', input_str )\n",
    "\n",
    "        occurance_list = [input_str.count(ele) for ele in set(input_str)]\n",
    "        \n",
    "        if occurance_list.count(occurance_list[0]) == len(occurance_list):\n",
    "            return True\n",
    "        \n",
    "        return False\n",
    "        \n",
    "\n",
    "    except Exception as e:\n",
    "        print(f'error raised {e}')\n",
    "\n",
    "print(check_len_of_all_elements(str(input()).strip()))\n",
    "print(check_len_of_all_elements(str(input()).strip()))"
   ]
  },
  {
   "attachments": {},
   "cell_type": "markdown",
   "metadata": {},
   "source": [
    "Test case1\n",
    "\n",
    "    the given input string is:  quick\n",
    "    None of the characters are repeating so returning True\n",
    "\n",
    "Test Case2\n",
    "\n",
    "    the given input string is:  fsds\n",
    "    char s repeats therefore returning False\n",
    "\n",
    "    "
   ]
  }
 ],
 "metadata": {
  "kernelspec": {
   "display_name": "base",
   "language": "python",
   "name": "python3"
  },
  "language_info": {
   "codemirror_mode": {
    "name": "ipython",
    "version": 3
   },
   "file_extension": ".py",
   "mimetype": "text/x-python",
   "name": "python",
   "nbconvert_exporter": "python",
   "pygments_lexer": "ipython3",
   "version": "3.9.13"
  },
  "orig_nbformat": 4
 },
 "nbformat": 4,
 "nbformat_minor": 2
}
