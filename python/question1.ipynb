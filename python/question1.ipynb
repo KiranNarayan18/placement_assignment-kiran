{
 "cells": [
  {
   "attachments": {},
   "cell_type": "markdown",
   "metadata": {},
   "source": [
    "```\n",
    "Write a program that takes a string as input, and counts the frequency of each word in the string, there might\n",
    "be repeated characters in the string. Your task is to find the highest frequency and returns the length of the\n",
    "highest-frequency word.\n",
    "\n",
    "Note - You have to write at least 2 additional test cases in which your program will run successfully and provide\n",
    "an explanation for the same.\n",
    "\n",
    "Example input - string = “write write write all the number from from from 1 to 100”\n",
    "Example output - 5\n",
    "Explanation - From the given string we can note that the most frequent words are “write” and “from” and\n",
    "the maximum value of both the values is “write” and its corresponding length is 5\n",
    "```\n"
   ]
  },
  {
   "cell_type": "code",
   "execution_count": 2,
   "metadata": {},
   "outputs": [],
   "source": [
    "def find_length_of_max_frequescy(input_str:str)->int:\n",
    "    try:\n",
    "        print('the given input string is: ', input_str )\n",
    "        repeated_word = max(set(input_str.split(' ')), key=input_str.count)\n",
    "\n",
    "        max_count = input_str.count(repeated_word)\n",
    "\n",
    "        repeated_word_list = list()\n",
    "\n",
    "        for ele in set(input_str.split(' ')):\n",
    "            if input_str.count(ele) >= max_count:\n",
    "                repeated_word_list.append(len(ele))\n",
    "\n",
    "\n",
    "        repeated_word = max(repeated_word_list, key=repeated_word_list.count)\n",
    "        return repeated_word\n",
    "            \n",
    "        \n",
    "\n",
    "    except Exception as e:\n",
    "        print(f'error raised {e}')"
   ]
  },
  {
   "cell_type": "code",
   "execution_count": 3,
   "metadata": {},
   "outputs": [
    {
     "name": "stdout",
     "output_type": "stream",
     "text": [
      "the given input string is:  hello hello fsds fsds\n",
      "5\n"
     ]
    }
   ],
   "source": [
    "print(find_length_of_max_frequescy(str(input()).strip()))"
   ]
  },
  {
   "cell_type": "code",
   "execution_count": 4,
   "metadata": {},
   "outputs": [
    {
     "name": "stdout",
     "output_type": "stream",
     "text": [
      "the given input string is:  complete complete complete complete the assignment before deadline deadline deadline deadline\n",
      "8\n"
     ]
    }
   ],
   "source": [
    "print(find_length_of_max_frequescy(str(input()).strip()))"
   ]
  },
  {
   "attachments": {},
   "cell_type": "markdown",
   "metadata": {},
   "source": [
    "Test case1\n",
    "\n",
    "    the given input string is:  hello hello fsds fsds \n",
    "    both 'hello' and 'fsds' are repeated same number of times but the length of write is greater so \n",
    "    returning 5\n",
    "\n",
    "Test Case2\n",
    "\n",
    "    the given input string is:  complete complete complete complete the assignment before deadline deadline deadline deadline\n",
    "    both complete and deadline are repeated same number of but it doesn't matter as the length of both elements are same \n",
    "    returning 8\n",
    "\n",
    "    "
   ]
  }
 ],
 "metadata": {
  "kernelspec": {
   "display_name": "base",
   "language": "python",
   "name": "python3"
  },
  "language_info": {
   "codemirror_mode": {
    "name": "ipython",
    "version": 3
   },
   "file_extension": ".py",
   "mimetype": "text/x-python",
   "name": "python",
   "nbconvert_exporter": "python",
   "pygments_lexer": "ipython3",
   "version": "3.9.13"
  },
  "orig_nbformat": 4
 },
 "nbformat": 4,
 "nbformat_minor": 2
}
