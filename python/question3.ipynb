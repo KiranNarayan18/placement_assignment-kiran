{
 "cells": [
  {
   "attachments": {},
   "cell_type": "markdown",
   "metadata": {},
   "source": [
    "\n",
    "3. Write a program, which would download the data from the provided link, and then read the data and convert\n",
    "that into properly structured data and return it in Excel format.\n",
    "\n",
    "Note - Write comments wherever necessary explaining the code written.\n",
    "Link - https://raw.githubusercontent.com/Biuni/PokemonGO-Pokedex/master/pokedex.json\n",
    "\n",
    "Data Attributes - id: Identification Number - int num: Number of the\n",
    "    ● Pokémon in the official Pokédex - int name: Pokémon name -\n",
    "    ● string img: URL to an image of this Pokémon - string type:\n",
    "    ● Pokémon type -string height: Pokémon height - float\n",
    "    ● weight: Pokémon weight - float candy: type of candy used to evolve Pokémon or\n",
    "    given\n",
    "    ● when transferred - string candy_count: the amount of candies required to evolve\n",
    "    - int\n",
    "    ● egg: Number of kilometers to travel to hatch the egg - float spawn_chance:\n",
    "    ● Percentage of spawn chance (NEW) - float avg_spawns: Number of this\n",
    "    pokemon on 10.000 spawns (NEW) - int\n",
    "    ● spawn_time: Spawns most active at the time on this field. Spawn times are the same for all\n",
    "    time zones and are expressed in local time. (NEW) - “minutes: seconds” multipliers:\n",
    "    Multiplier of Combat Power (CP) for calculating the CP after evolution See below - list of int\n",
    "    weakness: Types of\n",
    "    ● Pokémon this Pokémon is weak to - list of strings next_evolution: Number and Name of\n",
    "    successive evolutions of Pokémon - list of dict prev_evolution: Number and Name of previous\n",
    "    evolutions of Pokémon - - list of dict\n"
   ]
  },
  {
   "cell_type": "code",
   "execution_count": 1,
   "metadata": {},
   "outputs": [],
   "source": [
    "\n",
    "import requests\n",
    "import pandas as pd\n",
    "\n",
    "def save_to_excel_file(url:str)->None:\n",
    "    try:\n",
    "\n",
    "        data = requests.get(url)\n",
    "        data = data.json()\n",
    "\n",
    "        df = pd.json_normalize(data['pokemon'])\n",
    "        df.to_excel('question3_solution.xlsx', index=False)\n",
    "        \n",
    "    except Exception as e:\n",
    "        print(f'error raised {e}')\n",
    "\n",
    "url = \"https://raw.githubusercontent.com/Biuni/PokemonGO-Pokedex/master/pokedex.json\"\n",
    "save_to_excel_file(url)"
   ]
  }
 ],
 "metadata": {
  "kernelspec": {
   "display_name": "base",
   "language": "python",
   "name": "python3"
  },
  "language_info": {
   "codemirror_mode": {
    "name": "ipython",
    "version": 3
   },
   "file_extension": ".py",
   "mimetype": "text/x-python",
   "name": "python",
   "nbconvert_exporter": "python",
   "pygments_lexer": "ipython3",
   "version": "3.9.13"
  },
  "orig_nbformat": 4
 },
 "nbformat": 4,
 "nbformat_minor": 2
}
